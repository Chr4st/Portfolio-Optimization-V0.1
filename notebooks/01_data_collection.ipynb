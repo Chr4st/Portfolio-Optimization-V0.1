{
 "cells": [
  {
   "cell_type": "code",
   "execution_count": 22,
   "id": "349a86b6",
   "metadata": {},
   "outputs": [
    {
     "name": "stderr",
     "output_type": "stream",
     "text": [
      "[*********************100%***********************]  14 of 14 completed"
     ]
    },
    {
     "name": "stdout",
     "output_type": "stream",
     "text": [
      "✅ Data saved successfully.\n"
     ]
    },
    {
     "name": "stderr",
     "output_type": "stream",
     "text": [
      "\n"
     ]
    }
   ],
   "source": [
    "import yfinance as yf\n",
    "import pandas as pd\n",
    "import os\n",
    "\n",
    "tickers = [\n",
    "    \"SCHD\", \"SWPPX\", \"SCHG\", \"QQQM\",\n",
    "    \"PLTR\", \"MSTR\", \"SOFI\", \"MSFT\", \"BRK-B\",\n",
    "    \"GOOG\", \"JPM\", \"MRK\", \"LULU\", \"UNH\"\n",
    "]\n",
    "\n",
    "# Download data with multi-index columns\n",
    "raw_data = yf.download(tickers, start=\"1999-01-01\", end=\"2024-01-01\", group_by='ticker', auto_adjust=False)\n",
    "\n",
    "# Extract adjusted close safely\n",
    "adj_close = pd.DataFrame()\n",
    "\n",
    "for ticker in tickers:\n",
    "    try:\n",
    "        adj_close[ticker] = raw_data[ticker][\"Adj Close\"]\n",
    "    except Exception as e:\n",
    "        print(f\"⚠️ Could not load data for {ticker}: {e}\")\n",
    "\n",
    "# Drop all-NaN columns (e.g. funds with no long history)\n",
    "adj_close = adj_close.dropna(axis=1, how=\"all\")\n",
    "\n",
    "# Save to CSV\n",
    "os.makedirs(\"../data/raw/\", exist_ok=True)\n",
    "adj_close.to_csv(\"../data/raw/my_actual_portfolio.csv\")\n",
    "\n",
    "print(\"✅ Data saved successfully.\")\n"
   ]
  },
  {
   "cell_type": "code",
   "execution_count": 23,
   "id": "fd684229",
   "metadata": {},
   "outputs": [
    {
     "name": "stdout",
     "output_type": "stream",
     "text": [
      "            SCHD      SWPPX  SCHG  QQQM  PLTR      MSTR  SOFI       MSFT  \\\n",
      "Date                                                                       \n",
      "1999-01-04   NaN  11.875994   NaN   NaN   NaN  15.09375   NaN  21.648117   \n",
      "1999-01-05   NaN  12.038761   NaN   NaN   NaN  15.68750   NaN  22.492531   \n",
      "1999-01-06   NaN  12.307963   NaN   NaN   NaN  15.68750   NaN  23.221823   \n",
      "1999-01-07   NaN  12.282924   NaN   NaN   NaN  15.56250   NaN  23.106663   \n",
      "1999-01-08   NaN  12.333007   NaN   NaN   NaN  17.25000   NaN  23.010715   \n",
      "\n",
      "                BRK-B  GOOG        JPM        MRK  LULU       UNH  \n",
      "Date                                                               \n",
      "1999-01-04  46.599998   NaN  22.569094  28.277689   NaN  4.480469  \n",
      "1999-01-05  45.540001   NaN  22.745724  28.466532   NaN  4.554629  \n",
      "1999-01-06  45.139999   NaN  23.236336  29.021215   NaN  4.746208  \n",
      "1999-01-07  44.080002   NaN  24.197996  28.761572   NaN  4.665868  \n",
      "1999-01-08  43.500000   NaN  23.707350  29.044819   NaN  4.499008  \n",
      "📏 Shape: (6289, 14)\n"
     ]
    }
   ],
   "source": [
    "import pandas as pd\n",
    "\n",
    "# Load and preview\n",
    "data = pd.read_csv(\"../data/raw/my_actual_portfolio.csv\", index_col=0, parse_dates=True)\n",
    "print(data.head())\n",
    "print(\"📏 Shape:\", data.shape)\n",
    "\n",
    "# Save again if needed\n",
    "data.to_csv(\"../data/raw/my_actual_portfolio.csv\")\n"
   ]
  }
 ],
 "metadata": {
  "kernelspec": {
   "display_name": "venv",
   "language": "python",
   "name": "python3"
  },
  "language_info": {
   "codemirror_mode": {
    "name": "ipython",
    "version": 3
   },
   "file_extension": ".py",
   "mimetype": "text/x-python",
   "name": "python",
   "nbconvert_exporter": "python",
   "pygments_lexer": "ipython3",
   "version": "3.13.2"
  }
 },
 "nbformat": 4,
 "nbformat_minor": 5
}
