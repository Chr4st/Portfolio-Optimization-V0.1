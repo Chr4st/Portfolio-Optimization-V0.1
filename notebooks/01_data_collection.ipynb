{
 "cells": [
  {
   "cell_type": "code",
   "execution_count": 24,
   "id": "349a86b6",
   "metadata": {},
   "outputs": [
    {
     "name": "stderr",
     "output_type": "stream",
     "text": [
      "[*********************100%***********************]  14 of 14 completed\n"
     ]
    },
    {
     "name": "stdout",
     "output_type": "stream",
     "text": [
      "✅ Data saved successfully.\n"
     ]
    }
   ],
   "source": [
    "import yfinance as yf\n",
    "import pandas as pd\n",
    "import os\n",
    "\n",
    "tickers = [\n",
    "    \"SCHD\", \"SWPPX\", \"SCHG\", \"QQQM\",\n",
    "    \"PLTR\", \"MSTR\", \"SOFI\", \"MSFT\", \"BRK-B\",\n",
    "    \"GOOG\", \"JPM\", \"MRK\", \"LULU\", \"UNH\"\n",
    "]\n",
    "\n",
    "# Download data with multi-index columns\n",
    "raw_data = yf.download(tickers, start=\"1999-01-01\", end=\"2025-04-07\", group_by='ticker', auto_adjust=False)\n",
    "\n",
    "# Extract adjusted close safely\n",
    "adj_close = pd.DataFrame()\n",
    "\n",
    "for ticker in tickers:\n",
    "    try:\n",
    "        adj_close[ticker] = raw_data[ticker][\"Adj Close\"]\n",
    "    except Exception as e:\n",
    "        print(f\"⚠️ Could not load data for {ticker}: {e}\")\n",
    "\n",
    "# Drop all-NaN columns (e.g. funds with no long history)\n",
    "adj_close = adj_close.dropna(axis=1, how=\"all\")\n",
    "\n",
    "# Save to CSV\n",
    "os.makedirs(\"../data/raw/\", exist_ok=True)\n",
    "adj_close.to_csv(\"../data/raw/my_actual_portfolio.csv\")\n",
    "\n",
    "print(\"✅ Data saved successfully.\")\n"
   ]
  },
  {
   "cell_type": "code",
   "execution_count": 25,
   "id": "fd684229",
   "metadata": {},
   "outputs": [
    {
     "name": "stdout",
     "output_type": "stream",
     "text": [
      "            SCHD      SWPPX  SCHG  QQQM  PLTR      MSTR  SOFI       MSFT  \\\n",
      "Date                                                                       \n",
      "1999-01-04   NaN  11.875998   NaN   NaN   NaN  15.09375   NaN  21.648108   \n",
      "1999-01-05   NaN  12.038763   NaN   NaN   NaN  15.68750   NaN  22.492535   \n",
      "1999-01-06   NaN  12.307961   NaN   NaN   NaN  15.68750   NaN  23.221823   \n",
      "1999-01-07   NaN  12.282923   NaN   NaN   NaN  15.56250   NaN  23.106667   \n",
      "1999-01-08   NaN  12.333006   NaN   NaN   NaN  17.25000   NaN  23.010706   \n",
      "\n",
      "                BRK-B  GOOG        JPM        MRK  LULU       UNH  \n",
      "Date                                                               \n",
      "1999-01-04  46.599998   NaN  22.569082  28.277695   NaN  4.480471  \n",
      "1999-01-05  45.540001   NaN  22.745716  28.466518   NaN  4.554629  \n",
      "1999-01-06  45.139999   NaN  23.236359  29.021212   NaN  4.746207  \n",
      "1999-01-07  44.080002   NaN  24.197989  28.761568   NaN  4.665867  \n",
      "1999-01-08  43.500000   NaN  23.707369  29.044830   NaN  4.499008  \n",
      "📏 Shape: (6605, 14)\n"
     ]
    }
   ],
   "source": [
    "import pandas as pd\n",
    "\n",
    "# Load and preview\n",
    "data = pd.read_csv(\"../data/raw/my_actual_portfolio.csv\", index_col=0, parse_dates=True)\n",
    "print(data.head())\n",
    "print(\"📏 Shape:\", data.shape)\n",
    "\n",
    "# Save again if needed\n",
    "data.to_csv(\"../data/raw/my_actual_portfolio.csv\")\n"
   ]
  }
 ],
 "metadata": {
  "kernelspec": {
   "display_name": "venv",
   "language": "python",
   "name": "python3"
  },
  "language_info": {
   "codemirror_mode": {
    "name": "ipython",
    "version": 3
   },
   "file_extension": ".py",
   "mimetype": "text/x-python",
   "name": "python",
   "nbconvert_exporter": "python",
   "pygments_lexer": "ipython3",
   "version": "3.13.2"
  }
 },
 "nbformat": 4,
 "nbformat_minor": 5
}
